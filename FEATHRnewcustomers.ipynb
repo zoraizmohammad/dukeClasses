{
  "nbformat": 4,
  "nbformat_minor": 0,
  "metadata": {
    "colab": {
      "provenance": [],
      "mount_file_id": "1TbFO1IM4oM0bWyTYjaKlg9DRdmv__xkv",
      "authorship_tag": "ABX9TyOKqbNWfm+1LXi++db+JVvp",
      "include_colab_link": true
    },
    "kernelspec": {
      "name": "python3",
      "display_name": "Python 3"
    },
    "language_info": {
      "name": "python"
    }
  },
  "cells": [
    {
      "cell_type": "markdown",
      "metadata": {
        "id": "view-in-github",
        "colab_type": "text"
      },
      "source": [
        "<a href=\"https://colab.research.google.com/github/zoraizmohammad/dukeClasses/blob/main/FEATHRnewcustomers.ipynb\" target=\"_parent\"><img src=\"https://colab.research.google.com/assets/colab-badge.svg\" alt=\"Open In Colab\"/></a>"
      ]
    },
    {
      "cell_type": "code",
      "execution_count": 1,
      "metadata": {
        "id": "Gag70aJPTerH",
        "colab": {
          "base_uri": "https://localhost:8080/"
        },
        "outputId": "045a8eb4-6b2c-4095-daee-3f349c33f7ad"
      },
      "outputs": [
        {
          "output_type": "stream",
          "name": "stdout",
          "text": [
            "<class 'pandas.core.frame.DataFrame'>\n",
            "RangeIndex: 302 entries, 0 to 301\n",
            "Data columns (total 22 columns):\n",
            " #   Column                     Non-Null Count  Dtype  \n",
            "---  ------                     --------------  -----  \n",
            " 0   cons ID                    302 non-null    object \n",
            " 1   LO ID                      302 non-null    int64  \n",
            " 2   Type                       302 non-null    object \n",
            " 3   Date                       302 non-null    object \n",
            " 4   Amount                     302 non-null    object \n",
            " 5   Fund(s)                    302 non-null    object \n",
            " 6   Appeal(s)                  302 non-null    object \n",
            " 7   Origin Source Code         290 non-null    object \n",
            " 8   Origin Subsource Code      290 non-null    object \n",
            " 9   NC Oyster Trail applicant  290 non-null    object \n",
            " 10  Volunteer Marker           290 non-null    object \n",
            " 11  DLL subscriber             290 non-null    float64\n",
            " 12  GenX subscriber            290 non-null    object \n",
            " 13  Lake M subscriber          290 non-null    float64\n",
            " 14  Stump Sound subscriber     290 non-null    float64\n",
            " 15  NBSS subscriber            290 non-null    object \n",
            " 16  CHPP subscriber            290 non-null    float64\n",
            " 17  Newport River Subscriber   290 non-null    float64\n",
            " 18  Enews subscriber           290 non-null    object \n",
            " 19  DMV marker                 290 non-null    object \n",
            " 20  SE Ambassador Marker       290 non-null    object \n",
            " 21  Survey Submitted           290 non-null    float64\n",
            "dtypes: float64(6), int64(1), object(15)\n",
            "memory usage: 52.0+ KB\n"
          ]
        },
        {
          "output_type": "execute_result",
          "data": {
            "text/plain": [
              "(None,\n",
              "       cons ID    LO ID            Type        Date     Amount  \\\n",
              " 0       42801  1125656            Cash   1/30/2025    $750.00   \n",
              " 1  LO-1013858  1013858    Gift-in-Kind   10/7/2024  $5,000.00   \n",
              " 2  LO-1008233  1008233            Cash   5/26/2024     $50.00   \n",
              " 3  LO-1008142  1008142  Recurring Gift    6/3/2024     $50.00   \n",
              " 4  LO-1007998  1007998            Cash  12/20/2024    $100.00   \n",
              " \n",
              "              Fund(s)             Appeal(s) Origin Source Code  \\\n",
              " 0  Unrestricted Fund           25 NE Roast                  0   \n",
              " 1  Unrestricted Fund  24 PersSolic/Unsolic                  0   \n",
              " 2  Unrestricted Fund         24 New Member                  0   \n",
              " 3  Unrestricted Fund   24 Membership Renew                  0   \n",
              " 4  Unrestricted Fund  24 PersSolic/Unsolic                  0   \n",
              " \n",
              "   Origin Subsource Code NC Oyster Trail applicant  ... GenX subscriber  \\\n",
              " 0                     0                         0  ...               0   \n",
              " 1                     0                         0  ...               0   \n",
              " 2                     0                         0  ...               0   \n",
              " 3                     0                         0  ...               0   \n",
              " 4                     0                         0  ...               0   \n",
              " \n",
              "    Lake M subscriber Stump Sound subscriber  NBSS subscriber  CHPP subscriber  \\\n",
              " 0                0.0                    0.0                0              0.0   \n",
              " 1                0.0                    0.0                0              0.0   \n",
              " 2                0.0                    0.0                0              0.0   \n",
              " 3                0.0                    0.0                0              0.0   \n",
              " 4                0.0                    0.0                0              0.0   \n",
              " \n",
              "   Newport River Subscriber  Enews subscriber  DMV marker SE Ambassador Marker  \\\n",
              " 0                      0.0                 0           0                    0   \n",
              " 1                      0.0                 0           0                    0   \n",
              " 2                      0.0                 0           0                    0   \n",
              " 3                      0.0                 0           0                    0   \n",
              " 4                      0.0                 0           0                    0   \n",
              " \n",
              "   Survey Submitted  \n",
              " 0              0.0  \n",
              " 1              0.0  \n",
              " 2              0.0  \n",
              " 3              1.0  \n",
              " 4              0.0  \n",
              " \n",
              " [5 rows x 22 columns])"
            ]
          },
          "metadata": {},
          "execution_count": 1
        }
      ],
      "source": [
        "import pandas as pd\n",
        "\n",
        "# Load the uploaded CSV file\n",
        "file_path = \"/content/drive/MyDrive/Projects/May - Jan New donors - May - Jan New donors (1).csv\"\n",
        "df = pd.read_csv(file_path)\n",
        "\n",
        "# Display basic info and first few rows to understand the dataset structure\n",
        "df_info = df.info()\n",
        "df_head = df.head()\n",
        "\n",
        "df_info, df_head"
      ]
    },
    {
      "cell_type": "code",
      "source": [
        "import numpy as np\n",
        "\n",
        "# Make a copy for cleaning\n",
        "df_cleaned = df.copy()\n",
        "\n",
        "# Clean the 'Amount' column: remove '$' and ',' then convert to float\n",
        "df_cleaned['Amount'] = df_cleaned['Amount'].replace('[\\$,]', '', regex=True).astype(float)\n",
        "\n",
        "# Convert 'Date' to datetime format\n",
        "df_cleaned['Date'] = pd.to_datetime(df_cleaned['Date'], errors='coerce')\n",
        "\n",
        "# Fill NaNs in categorical columns with 'Unknown' and in numeric columns with 0\n",
        "for col in df_cleaned.columns:\n",
        "    if df_cleaned[col].dtype == 'object':\n",
        "        df_cleaned[col] = df_cleaned[col].fillna('Unknown')\n",
        "    else:\n",
        "        df_cleaned[col] = df_cleaned[col].fillna(0)\n",
        "\n",
        "# Describe numeric columns to see distributions\n",
        "numeric_summary = df_cleaned.describe()\n",
        "\n",
        "# Count unique values in some key categorical columns\n",
        "categorical_overview = {\n",
        "    \"Type\": df_cleaned[\"Type\"].value_counts(),\n",
        "    \"Fund(s)\": df_cleaned[\"Fund(s)\"].value_counts(),\n",
        "    \"Appeal(s)\": df_cleaned[\"Appeal(s)\"].value_counts().head(10),\n",
        "    \"Origin Source Code\": df_cleaned[\"Origin Source Code\"].value_counts().head(10),\n",
        "    \"Enews subscriber\": df_cleaned[\"Enews subscriber\"].value_counts(),\n",
        "    \"Survey Submitted\": df_cleaned[\"Survey Submitted\"].value_counts()\n",
        "}\n",
        "\n",
        "numeric_summary, categorical_overview"
      ],
      "metadata": {
        "colab": {
          "base_uri": "https://localhost:8080/"
        },
        "id": "qdj2PJUET6kj",
        "outputId": "92718daf-fe98-45fc-f3b3-db6dd68340eb"
      },
      "execution_count": 2,
      "outputs": [
        {
          "output_type": "execute_result",
          "data": {
            "text/plain": [
              "(              LO ID                           Date       Amount  \\\n",
              " count  3.020000e+02                            302   302.000000   \n",
              " mean   1.060607e+06  2024-09-30 20:54:02.384105984   170.602583   \n",
              " min    0.000000e+00            2024-05-05 00:00:00     5.000000   \n",
              " 25%    1.069951e+06            2024-08-01 00:00:00    35.000000   \n",
              " 50%    1.118440e+06            2024-09-23 00:00:00    64.500000   \n",
              " 75%    1.121476e+06            2024-12-08 00:00:00   117.500000   \n",
              " max    1.125656e+06            2025-01-30 00:00:00  5000.000000   \n",
              " std    1.998001e+05                            NaN   513.936854   \n",
              " \n",
              "        DLL subscriber  Lake M subscriber  Stump Sound subscriber  \\\n",
              " count           302.0              302.0                   302.0   \n",
              " mean              0.0                0.0                     0.0   \n",
              " min               0.0                0.0                     0.0   \n",
              " 25%               0.0                0.0                     0.0   \n",
              " 50%               0.0                0.0                     0.0   \n",
              " 75%               0.0                0.0                     0.0   \n",
              " max               0.0                0.0                     0.0   \n",
              " std               0.0                0.0                     0.0   \n",
              " \n",
              "        CHPP subscriber  Newport River Subscriber  Survey Submitted  \n",
              " count            302.0                     302.0        302.000000  \n",
              " mean               0.0                       0.0          0.245033  \n",
              " min                0.0                       0.0          0.000000  \n",
              " 25%                0.0                       0.0          0.000000  \n",
              " 50%                0.0                       0.0          0.000000  \n",
              " 75%                0.0                       0.0          0.000000  \n",
              " max                0.0                       0.0          6.000000  \n",
              " std                0.0                       0.0          0.728781  ,\n",
              " {'Type': Type\n",
              "  Cash                       205\n",
              "  Other                       69\n",
              "  Recurring Gift              17\n",
              "  Recurring Gift Pay-Cash      6\n",
              "  Gift-in-Kind                 5\n",
              "  Name: count, dtype: int64,\n",
              "  'Fund(s)': Fund(s)\n",
              "  Unrestricted Fund    297\n",
              "  Restrict: Capital      3\n",
              "  Restricted Fund        2\n",
              "  Name: count, dtype: int64,\n",
              "  'Appeal(s)': Appeal(s)\n",
              "  24 HQ Pelican ToC       62\n",
              "  24 New Member           38\n",
              "  24 Membership Renew     31\n",
              "  24 Peer to Peer         26\n",
              "  24 PersSolic/Unsolic    25\n",
              "  24 Gift Shop            21\n",
              "  24 Appeal - EOY         17\n",
              "  24 WB Paddle            12\n",
              "  24 Lapsed Member         9\n",
              "  24 Honor/Memorial        8\n",
              "  Name: count, dtype: int64,\n",
              "  'Origin Source Code': Origin Source Code\n",
              "  0                      197\n",
              "  www.nccoast.org         26\n",
              "  Unknown                 12\n",
              "  SecurePayAPI            12\n",
              "  eoy24                    8\n",
              "  subscribe                8\n",
              "  My oyster                6\n",
              "  Volunteer Form           5\n",
              "  Ambassador form          3\n",
              "  nccoast.ejoinme.org      2\n",
              "  Name: count, dtype: int64,\n",
              "  'Enews subscriber': Enews subscriber\n",
              "  0             280\n",
              "  Unknown        12\n",
              "  Subscribed     10\n",
              "  Name: count, dtype: int64,\n",
              "  'Survey Submitted': Survey Submitted\n",
              "  0.0    259\n",
              "  1.0     24\n",
              "  2.0     13\n",
              "  4.0      3\n",
              "  3.0      2\n",
              "  6.0      1\n",
              "  Name: count, dtype: int64})"
            ]
          },
          "metadata": {},
          "execution_count": 2
        }
      ]
    },
    {
      "cell_type": "code",
      "source": [],
      "metadata": {
        "id": "UWd3LwLDT-zP"
      },
      "execution_count": null,
      "outputs": []
    }
  ]
}