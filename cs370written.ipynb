{
  "nbformat": 4,
  "nbformat_minor": 0,
  "metadata": {
    "colab": {
      "provenance": [],
      "authorship_tag": "ABX9TyP1kjPCcD1M+J0hm3Zq37/n",
      "include_colab_link": true
    },
    "kernelspec": {
      "name": "python3",
      "display_name": "Python 3"
    },
    "language_info": {
      "name": "python"
    }
  },
  "cells": [
    {
      "cell_type": "markdown",
      "metadata": {
        "id": "view-in-github",
        "colab_type": "text"
      },
      "source": [
        "<a href=\"https://colab.research.google.com/github/zoraizmohammad/dukeClasses/blob/main/cs370written.ipynb\" target=\"_parent\"><img src=\"https://colab.research.google.com/assets/colab-badge.svg\" alt=\"Open In Colab\"/></a>"
      ]
    },
    {
      "cell_type": "code",
      "source": [
        "!pip install ace-tools as tools"
      ],
      "metadata": {
        "colab": {
          "base_uri": "https://localhost:8080/"
        },
        "id": "1Op8PaJg_M83",
        "outputId": "b1de5789-5a5d-4b7d-c9fc-f3ef062ec7b1"
      },
      "execution_count": 11,
      "outputs": [
        {
          "output_type": "stream",
          "name": "stdout",
          "text": [
            "Requirement already satisfied: ace-tools in /usr/local/lib/python3.11/dist-packages (0.0)\n",
            "\u001b[31mERROR: Could not find a version that satisfies the requirement as (from versions: none)\u001b[0m\u001b[31m\n",
            "\u001b[0m\u001b[31mERROR: No matching distribution found for as\u001b[0m\u001b[31m\n",
            "\u001b[0m"
          ]
        }
      ]
    },
    {
      "cell_type": "markdown",
      "source": [
        "**Question 2, Part A**"
      ],
      "metadata": {
        "id": "oAxP2004Ab3O"
      }
    },
    {
      "cell_type": "code",
      "execution_count": 12,
      "metadata": {
        "colab": {
          "base_uri": "https://localhost:8080/"
        },
        "id": "f9NPAZ_B-2hU",
        "outputId": "98aaba8a-8dcd-4966-8e2d-be9989973723"
      },
      "outputs": [
        {
          "output_type": "stream",
          "name": "stdout",
          "text": [
            "     V0    V1     V2       V3\n",
            "S0  0.0  10.0  19.50  28.5250\n",
            "S1  0.0   0.0   9.50  18.5250\n",
            "S2  0.0   9.0  17.55  25.6725\n"
          ]
        }
      ],
      "source": [
        "import pandas as pd\n",
        "# Discount factor\n",
        "gamma = 0.95\n",
        "\n",
        "# Initialize value function\n",
        "V = {\"S0\": 0.0, \"S1\": 0.0, \"S2\": 0.0}\n",
        "iterations = {\"V0\": V.copy()}\n",
        "\n",
        "# Function to compute next value for each state\n",
        "def compute_next_values(V):\n",
        "    next_V = {}\n",
        "\n",
        "    # S0: Left/Stay -> S0 (R=10), Right -> S1 (R=10)\n",
        "    v_s0_left = 10 + gamma * V[\"S0\"]\n",
        "    v_s0_right = 10 + gamma * V[\"S1\"]\n",
        "    next_V[\"S0\"] = max(v_s0_left, v_s0_right, v_s0_left)  # left and stay are same\n",
        "\n",
        "    # S1: Left -> S0 (R=0), Right -> S2 (R=0), Stay -> S1 (R=0)\n",
        "    v_s1_left = 0 + gamma * V[\"S0\"]\n",
        "    v_s1_right = 0 + gamma * V[\"S2\"]\n",
        "    v_s1_stay = 0 + gamma * V[\"S1\"]\n",
        "    next_V[\"S1\"] = max(v_s1_left, v_s1_right, v_s1_stay)\n",
        "\n",
        "    # S2: Right/Stay -> S2 (R=9), Left -> S1 (R=0)\n",
        "    v_s2_right = 9 + gamma * V[\"S2\"]\n",
        "    v_s2_left = 0 + gamma * V[\"S1\"]\n",
        "    next_V[\"S2\"] = max(v_s2_right, v_s2_left, v_s2_right)  # right and stay are same\n",
        "\n",
        "    return next_V\n",
        "\n",
        "# Perform 3 iterations\n",
        "for i in range(1, 4):\n",
        "    V = compute_next_values(V)\n",
        "    iterations[f\"V{i}\"] = V.copy()\n",
        "\n",
        "# Convert to DataFrame\n",
        "df = pd.DataFrame(iterations)\n",
        "\n",
        "# Print the final DataFrame\n",
        "print(df)\n"
      ]
    }
  ]
}