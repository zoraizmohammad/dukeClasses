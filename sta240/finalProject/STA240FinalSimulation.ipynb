{
  "nbformat": 4,
  "nbformat_minor": 0,
  "metadata": {
    "colab": {
      "provenance": [],
      "authorship_tag": "ABX9TyMFq7QP48wzyxbD2CCW2D5y",
      "include_colab_link": true
    },
    "kernelspec": {
      "name": "ir",
      "display_name": "R"
    },
    "language_info": {
      "name": "R"
    }
  },
  "cells": [
    {
      "cell_type": "markdown",
      "metadata": {
        "id": "view-in-github",
        "colab_type": "text"
      },
      "source": [
        "<a href=\"https://colab.research.google.com/github/zoraizmohammad/dukeClasses/blob/main/sta240/finalProject/STA240FinalSimulation.ipynb\" target=\"_parent\"><img src=\"https://colab.research.google.com/assets/colab-badge.svg\" alt=\"Open In Colab\"/></a>"
      ]
    },
    {
      "cell_type": "markdown",
      "source": [
        "# ***STA240 Final Project***\n",
        "Completed by: Mohammad Zoraiz & Sylvester Johannes Arizie\n"
      ],
      "metadata": {
        "id": "PFxEgKsfLGzl"
      }
    },
    {
      "cell_type": "markdown",
      "source": [
        "# ***General Tasks***\n",
        "This project is intended as a simulation case study that applies the concepts you learned in class as well as the computational tools you learned in lab. Much of your work will be in coding up a simulation framework that realistically simulates the arrival, service and waiting\n",
        "times of customers in your business. You might wish to try the following steps to set up the simulator for the base scenario 1 (see below):\n",
        "1. Code a subprocedure that simulates the arrival times of customers throughout the day.\n",
        "2. Code a subprocedure that, given output from (a), simulates the serving times of these\n",
        "customers before they leave.\n",
        "3. Given output from (a) and (b), code a subprocedure that tells you at a given time point, how many customers are waiting in line, how many customers are being served, and whether the restaurant is experiencing down-time.\n",
        "4. You can build upon these subprocedures to construct more elaborate and realistic simulation workflows for your restaurant, e.g., Scenario 2 and other scenarios you wish to explore.\n",
        "\n",
        "Students in prior classes have found it useful to drop by office hours to seek help on coding, so you are more than welcome to do that – we’re here to help!\n",
        "\n",
        "Project Preview: https://drive.google.com/file/d/1IqlXxooZe8gVvy2u_euSSERWRLfRDYrz/view?usp=sharing"
      ],
      "metadata": {
        "id": "r8mI33lYKtwE"
      }
    },
    {
      "cell_type": "markdown",
      "source": [
        "# **Scenario  1**\n",
        "Consider the simple setting with one dining table and one chef, with operating\n",
        "hours 10am - 10pm. Suppose customers arrive according to a Poisson process with a rate of λ<sub>A</sub> = 5 per hour. Once a customer arrives, their total service time (ordering, cooking and eating) can be modeled by an exponential distribution with rate λ<sub>S</sub> = 6.\n",
        "\n",
        "*Note:* It is reasonable to assume waiting and service times for each customer are independently distributed. If a customer arrives and the dining table is occupied, then they would wait in line until the table is vacant.\n",
        "\n"
      ],
      "metadata": {
        "id": "MQkD5d-yIzdZ"
      }
    },
    {
      "cell_type": "code",
      "execution_count": 1,
      "metadata": {
        "id": "a_rlFOGi7p3T"
      },
      "outputs": [],
      "source": []
    },
    {
      "cell_type": "markdown",
      "source": [
        "# **Scenario 2**\n",
        "\n",
        "Consider the setting with 5 dining tables and L chefs, with operating hours 10am - 10pm. Suppose customers arrive according to a Poisson process with a rate of λ<sub>A</sub> = 10 per hour. Once a customer arrives, their total service time can be modeled by an exponential distribution with rate λ<sub>S</sub> = 3L. Assume a customer spends 50 dollars per meal, and each chef earns a wage of 40 dollars per hour.\n",
        "\n",
        "Plausible questions: Comment on the customer’s queueing experience in this setting, particularly we vary the number of chefs L. From a business perspective, how many chefs L should be hired to maximize profits with high probability? Justify your recommendation. Comment on the down-time of the restaurant throughout the day, and what this might means for business operation."
      ],
      "metadata": {
        "id": "_sEKI9NsJ7jJ"
      }
    },
    {
      "cell_type": "code",
      "source": [],
      "metadata": {
        "id": "TPIHXA84J7IN"
      },
      "execution_count": null,
      "outputs": []
    },
    {
      "cell_type": "markdown",
      "source": [
        "# **More Possible Senarios to Consider**\n",
        "Here are the 10 extensions with specific details added to guide the scenarios:\n",
        "\n",
        "1. **Variable Customer Arrival Rates**:\n",
        "   - Assume peak hours are 12:00 PM - 2:00 PM and 6:00 PM - 8:00 PM with a customer arrival rate of 15 customers/hour (Poisson process). Off-peak hours have a rate of 5 customers/hour. Analyze how these fluctuations impact waiting times and required staff levels.\n",
        "\n",
        "2. **Customer Groups and Table Sizes**:\n",
        "   - Assume 40% of arrivals are groups of 2, 30% groups of 4, and 30% single customers. Each group requires appropriately sized tables (2-seater, 4-seater). Simulate how accommodating these groups affects wait times and table utilization.\n",
        "\n",
        "3. **Menu Complexity and Service Time**:\n",
        "   - Introduce two menu types: a \"Basic Menu\" with an average service time of 15 minutes (Exponential, rate = 4) and a \"Gourmet Menu\" with an average service time of 30 minutes (Exponential, rate = 2). Determine how changing 50% of the orders to the Gourmet Menu affects overall service efficiency.\n",
        "\n",
        "4. **Special Events or Promotions**:\n",
        "   - Simulate a Friday night \"Happy Hour\" from 5:00 PM - 7:00 PM with an increased arrival rate of 20 customers/hour. Customers during this period spend an average of 30 dollars per meal instead of 50 dollars. Evaluate its profitability compared to regular evenings.\n",
        "\n",
        "5. **Customer Patience and Abandonment**:\n",
        "   - Assume customers are willing to wait up to 10 minutes on average (Exponential patience distribution with rate = 0.1). After this, 25% of them leave without being served. Analyze the impact of adding an extra chef to reduce abandonment rates.\n",
        "\n",
        "6. **Multi-Level Staff Management**:\n",
        "   - Introduce a model with 2 waitstaff for every chef, where waitstaff handle seating and order-taking, reducing the chef's service time from 15 minutes to 10 minutes on average (Exponential, rate = 6). Analyze how this division of labor impacts profits and downtime.\n",
        "\n",
        "7. **Dynamic Pricing**:\n",
        "   - Assume dynamic pricing increases meal costs by 20% during peak hours (lunch and dinner) and reduces them by 10% during off-peak hours. Evaluate its impact on daily revenue and peak-hour customer retention.\n",
        "\n",
        "8. **Delivery and Takeout Orders**:\n",
        "   - Assume 30% of customers during off-peak hours order takeout, requiring 75% of the service time of dine-in customers (Exponential service rate = 8). Analyze the kitchen workload and the effect on dine-in service times.\n",
        "\n",
        "9. **Seasonal Variations**:\n",
        "   - Assume summer months (June-August) increase arrival rates to 12 customers/hour on average, while winter months (December-February) reduce them to 8 customers/hour. Evaluate staffing and profitability adjustments required for these changes.\n",
        "\n",
        "10. **Health and Safety Constraints**:\n",
        "    - Simulate a social distancing policy limiting occupancy to 3 active dining tables at any time, with one chef per table. Customers have a 20% higher patience threshold (average of 12 minutes). Assess how this restriction affects customer satisfaction and revenue.\n",
        "\n",
        "## Distribution Information\n",
        "Here are the extensions with explicit processes and distributions for modeling:\n",
        "\n",
        "1. **Variable Customer Arrival Rates**:\n",
        "   - **Arrival Process**: Poisson process with rate λ = 15 customers/hour for peak hours (12 PM - 2 PM and 6 PM - 8 PM), λ = 5 customers/hour for off-peak hours.\n",
        "   - **Service Times**: Exponential distribution with rate μ = 6 customers/hour.\n",
        "\n",
        "2. **Customer Groups and Table Sizes**:\n",
        "   - **Arrival Process**: Poisson process with λ = 10 customers/hour.\n",
        "   - **Group Sizes**: Discrete distribution: P(single) = 0.3, P(group of 2) = 0.4, P(group of 4) = 0.3.\n",
        "   - **Service Times**: Exponential distribution with rate μ= 4 (single), 2.5 (group of 2), 1.5 (group of 4).\n",
        "\n",
        "3. **Menu Complexity and Service Time**:\n",
        "   - **Arrival Process**: Poisson process with λ = 8 customers/hour.\n",
        "   - **Service Times**: Mixture of two Exponential distributions: μ1= 4/hour (Basic Menu, probability 0.5), μ2 = 2/hour (Gourmet Menu, probability 0.5).\n",
        "\n",
        "4. **Special Events or Promotions**:\n",
        "   - **Arrival Process**: Poisson process with λ = 20 customers/hour during happy hour.\n",
        "   - **Service Times**: Exponential distribution with rate μ = 5 customers/hour.\n",
        "   - **Spending per Customer**: Uniform distribution U(25, 35) to model variations in spending during promotions.\n",
        "\n",
        "5. **Customer Patience and Abandonment**:\n",
        "   - **Arrival Process**: Poisson process with λ = 10 customers/hour.\n",
        "   - **Service Times**: Exponential distribution with rate μ = 4 customers/hour.\n",
        "   - **Patience Times**: Exponential distribution with rate v = 0.1 (mean patience = 10 minutes).\n",
        "\n",
        "6. **Multi-Level Staff Management**:\n",
        "   - **Arrival Process**: Poisson process with λ = 12 customers/hour.\n",
        "   - **Service Times**: Exponential distribution with rate μ = 6 customers/hour when chefs are supported by waitstaff, μ = 4/hour without waitstaff.\n",
        "\n",
        "7. **Dynamic Pricing**:\n",
        "   - **Arrival Process**: Poisson process with λ = 15 customers/hour during peak hours,λ= 8 during off-peak.\n",
        "   - **Service Times**: Exponential distribution with rate μ = 6/hour.\n",
        "   - **Revenue per Customer**: Piecewise function: $60/customer (peak hours), $45/customer (off-peak).\n",
        "\n",
        "8. **Delivery and Takeout Orders**:\n",
        "   - **Arrival Process**: Poisson process with λ= 10 customers/hour.\n",
        "   - **Takeout Proportion**: Bernoulli distribution with p = 0.3.\n",
        "   - **Service Times**: Exponential distribution with rate μ = 6/hour (dine-in), μ = 8/hour (takeout).\n",
        "\n",
        "9. **Seasonal Variations**:\n",
        "   - **Arrival Process**: Poisson process with λ= 12 customers/hour (summer), λ = 8/hour (winter).\n",
        "   - **Service Times**: Exponential distribution with rateμ = 6/hour.\n",
        "\n",
        "10. **Health and Safety Constraints**:\n",
        "    - **Arrival Process**: Poisson process with λ = 10 customers/hour.\n",
        "    - **Service Times**: Exponential distribution with rate λ = 6/hour.\n",
        "    - **Occupancy Constraint**: Uniform distribution U(2, 3)to randomly limit table availability at any given time.\n",
        "\n",
        "These choices ensure alignment with probabilistic modeling, where Poisson processes are widely used for arrival times and exponential distributions for service times due to their memoryless properties, which are realistic for queueing systems."
      ],
      "metadata": {
        "id": "7LqpMweMa_53"
      }
    }
  ]
}